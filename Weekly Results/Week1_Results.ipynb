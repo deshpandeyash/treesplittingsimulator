{
 "cells": [
  {
   "cell_type": "markdown",
   "metadata": {
    "collapsed": true,
    "pycharm": {
     "is_executing": false
    }
   },
   "source": [
    "# Week 1 - Skeleton and Basic Tests\n",
    "\n",
    "A code skeleton for tree resolution algorithms which is robus and flexible was created and simple algorithms which are proven and have a theoretical throughput values in steady state were simulated ot check if the simulator works correctly. \n"
   ]
  },
  {
   "cell_type": "markdown",
   "metadata": {},
   "source": [
    "## Test 1 - Static Tests\n",
    "\n",
    "### 1.1 Simple Tree Resolution Algorithm\n",
    " \n",
    "Collided Packets - 1000\n",
    "No of test runs  - 100\n",
    "Branching Prob   - 0.5\n",
    "Theoretical Throughput - 0.346\n",
    "\n",
    "Plot is the histogram of throughput over 100 runs\n"
   ]
  },
  {
   "cell_type": "code",
   "execution_count": 6,
   "metadata": {},
   "outputs": [
    {
     "name": "stdout",
     "output_type": "stream",
     "text": [
      "Mean Throughput is = 0.34655904135711596\n"
     ]
    },
    {
     "data": {
      "image/png": "[encoded data removed]",
      "text/plain": [
       "<Figure size 432x288 with 1 Axes>"
      ]
     },
     "metadata": {
      "needs_background": "light"
     },
     "output_type": "display_data"
    }
   ],
   "source": [
    "import simstudy\n",
    "simstudy.simulate_simple_tree_static_multpile_runs(modified=False, unisplit=False)"
   ]
  },
  {
   "cell_type": "markdown",
   "metadata": {},
   "source": [
    "### 1.2 Modified Tree Resolution Algorithm\n",
    "Here we skip a deterministic collision on the next slot if we have an IDLE slot after a COLLISION. \n",
    "\n",
    "Collided Packets - 1000 \n",
    "No of test runs  - 100\n",
    "Branching Prob   - 0.5\n",
    "Theoretical Throughput - 0.375"
   ]
  },
  {
   "cell_type": "code",
   "execution_count": 11,
   "metadata": {
    "scrolled": true
   },
   "outputs": [
    {
     "name": "stdout",
     "output_type": "stream",
     "text": [
      "Mean Throughput is = 0.37058107706941257\n"
     ]
    },
    {
     "data": {
      "image/png": "[encoded data removed]",
      "text/plain": [
       "<Figure size 432x288 with 1 Axes>"
      ]
     },
     "metadata": {
      "needs_background": "light"
     },
     "output_type": "display_data"
    }
   ],
   "source": [
    "import simstudy\n",
    "simstudy.simulate_simple_tree_static_multpile_runs(modified=True, unisplit=False)"
   ]
  },
  {
   "cell_type": "markdown",
   "metadata": {},
   "source": [
    "### 1.3 Optimum Tree Resolution\n",
    "Here the first collision causes the tree to branch into K branches where K is the number of collided packets. Then it resumes a binary tree algorithm.\n",
    "Collided Packets - 1000 No of test runs - 100 Branching Prob - 0.5 Theoretical Throughput - 0.430"
   ]
  },
  {
   "cell_type": "code",
   "execution_count": 2,
   "metadata": {
    "scrolled": true
   },
   "outputs": [
    {
     "name": "stdout",
     "output_type": "stream",
     "text": [
      "Mean Throughput is = 0.42696736780251654\n"
     ]
    },
    {
     "data": {
      "image/png": "[encoded data removed]",
      "text/plain": [
       "<Figure size 432x288 with 1 Axes>"
      ]
     },
     "metadata": {
      "needs_background": "light"
     },
     "output_type": "display_data"
    }
   ],
   "source": [
    "import simstudy\n",
    "simstudy.simulate_simple_tree_static_multpile_runs(modified=False, unisplit=True)"
   ]
  },
  {
   "cell_type": "markdown",
   "metadata": {},
   "source": [
    "### Modified Optimum Tree\n",
    "Here we combine the Modified Tree and Optimum tree\n",
    "Collided Packets - 1000 No of test runs - 100 Branching Prob - 0.5 Theoretical Throughput - 0.45??"
   ]
  },
  {
   "cell_type": "code",
   "execution_count": 4,
   "metadata": {},
   "outputs": [
    {
     "name": "stdout",
     "output_type": "stream",
     "text": [
      "Mean Throughput is = 0.45137387137603435\n"
     ]
    },
    {
     "data": {
      "image/png": "[encoded data removed]",
      "text/plain": [
       "<Figure size 432x288 with 1 Axes>"
      ]
     },
     "metadata": {
      "needs_background": "light"
     },
     "output_type": "display_data"
    }
   ],
   "source": [
    "import simstudy\n",
    "simstudy.simulate_simple_tree_static_multpile_runs(modified=True, unisplit=True)"
   ]
  },
  {
   "cell_type": "markdown",
   "metadata": {},
   "source": [
    "## Test 2 - Dynamic Tests with Poisson Arrivals\n",
    "\n",
    "### 2.1 Simple Tree Resolution Algorithm\n"
   ]
  },
  {
   "cell_type": "code",
   "execution_count": 11,
   "metadata": {},
   "outputs": [
    {
     "name": "stdout",
     "output_type": "stream",
     "text": [
      "Throughput = 0.3384338433843384\n",
      "Mean Packet Delay = 48.124704491725765\n",
      "Mean number of retx = 3.891548463356974\n"
     ]
    }
   ],
   "source": [
    "import simstudy\n",
    "import simulation\n",
    "sim = simulation.Simulation()\n",
    "simstudy.simulate_simple_tree_dynamic(sim, modified=False, unisplit=False)"
   ]
  },
  {
   "cell_type": "code",
   "execution_count": 10,
   "metadata": {},
   "outputs": [
    {
     "name": "stdout",
     "output_type": "stream",
     "text": [
      "Throughput = 0.33933393339333934\n",
      "Mean Packet Delay = 14.966990863542588\n",
      "Mean number of retx = 3.0506926024167402\n"
     ]
    }
   ],
   "source": [
    "import simstudy\n",
    "import simulation\n",
    "sim = simulation.Simulation()\n",
    "simstudy.simulate_simple_tree_dynamic(sim, modified=True, unisplit=False)"
   ]
  },
  {
   "cell_type": "markdown",
   "metadata": {},
   "source": [
    "### Issues - \n",
    "How to go about to show that the Dynamic Simulations are as per the expected theoretical values. Too much \"randomeness\". \n"
   ]
  },
  {
   "cell_type": "code",
   "execution_count": null,
   "metadata": {},
   "outputs": [],
   "source": []
  }
 ],
 "metadata": {
  "kernelspec": {
   "display_name": "Python 3",
   "language": "python",
   "name": "python3"
  },
  "language_info": {
   "codemirror_mode": {
    "name": "ipython",
    "version": 3
   },
   "file_extension": ".py",
   "mimetype": "text/x-python",
   "name": "python",
   "nbconvert_exporter": "python",
   "pygments_lexer": "ipython3",
   "version": "3.7.3"
  }
 },
 "nbformat": 4,
 "nbformat_minor": 1
}
