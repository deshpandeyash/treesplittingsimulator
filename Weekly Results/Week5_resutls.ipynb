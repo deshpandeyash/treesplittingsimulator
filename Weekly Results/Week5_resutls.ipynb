{
 "cells": [
  {
   "cell_type": "markdown",
   "metadata": {
    "collapsed": true
   },
   "source": [
    "# Week 5 - Tree Implementation\n",
    "\n",
    "In order to implement the Q-ary Tree with SIC, we need to implement a structure where you can track which branch of the Q ary tree you are in. Hence, this weeks work was focused on adding a Tree Structure in the code which tracks the brnach. \n",
    "Here i used a string implementation and the brnaches in a Q-ary tree begin with the rightmost branch being Q-1 and the left most branch being the branch 0. The tree progression is loaded into an array and we do small simulations to see if the tree progression was right. \n",
    "\n"
   ]
  },
  {
   "cell_type": "markdown",
   "metadata": {},
   "source": [
    "### Simple Tree - Binary\n",
    "Initially collided users are 5. "
   ]
  },
  {
   "cell_type": "code",
   "execution_count": 1,
   "metadata": {},
   "outputs": [
    {
     "name": "stdout",
     "output_type": "stream",
     "text": [
      "Results were: \n",
      "[2, 2, 1, 2, 1, 1, 2, 0, 2, 1, 1]\n",
      "Tree Progression was: \n",
      "['1', '11', '10', '101', '100', '0', '01', '00', '001', '000']\n",
      "Mean Throughput is = 0.45454545454545453\n",
      "The Depth of the tree is: 3.0\n"
     ]
    }
   ],
   "source": [
    "import simstudy\n",
    "simstudy.simulate_tree_branching()"
   ]
  },
  {
   "cell_type": "markdown",
   "metadata": {},
   "source": [
    "### Modified Tree - Binary"
   ]
  },
  {
   "cell_type": "code",
   "execution_count": 2,
   "metadata": {},
   "outputs": [
    {
     "name": "stdout",
     "output_type": "stream",
     "text": [
      "Results were: \n",
      "[2, 1, 2, 1, 2, 1, 2, 1, 1]\n",
      "Tree Progression was: \n",
      "['1', '0', '01', '00', '001', '000', '0001', '0000']\n",
      "Mean Throughput is = 0.5555555555555556\n",
      "The Depth of the tree is: 4.0\n"
     ]
    }
   ],
   "source": [
    "import simstudy\n",
    "simstudy.simulate_tree_branching()"
   ]
  },
  {
   "cell_type": "markdown",
   "metadata": {},
   "source": [
    "### Simple Tree - Ternary"
   ]
  },
  {
   "cell_type": "code",
   "execution_count": 1,
   "metadata": {},
   "outputs": [
    {
     "name": "stdout",
     "output_type": "stream",
     "text": [
      "Results were: \n",
      "[2, 0, 2, 2, 0, 0, 2, 1, 1, 0, 1, 0, 2, 1, 0, 1]\n",
      "Tree Progression was: \n",
      "['2', '1', '12', '122', '121', '120', '1202', '1201', '1200', '11', '10', '0', '02', '01', '00']\n",
      "Mean Throughput is = 0.3125\n",
      "The Depth of the tree is: 4.0\n"
     ]
    }
   ],
   "source": [
    "import simstudy\n",
    "simstudy.simulate_tree_branching()"
   ]
  },
  {
   "cell_type": "markdown",
   "metadata": {},
   "source": [
    "### Modified Tree - Ternary"
   ]
  },
  {
   "cell_type": "code",
   "execution_count": 1,
   "metadata": {},
   "outputs": [
    {
     "name": "stdout",
     "output_type": "stream",
     "text": [
      "Results were: \n",
      "[2, 2, 1, 1, 0, 2, 2, 0, 1, 1, 0, 1]\n",
      "Tree Progression was: \n",
      "['2', '22', '21', '20', '1', '12', '122', '121', '120', '11', '10']\n",
      "Mean Throughput is = 0.4166666666666667\n",
      "The Depth of the tree is: 3.0\n"
     ]
    }
   ],
   "source": [
    "import simstudy\n",
    "simstudy.simulate_tree_branching()"
   ]
  },
  {
   "cell_type": "markdown",
   "metadata": {},
   "source": [
    "### Binary Tree with SIC"
   ]
  },
  {
   "cell_type": "code",
   "execution_count": 1,
   "metadata": {},
   "outputs": [
    {
     "name": "stdout",
     "output_type": "stream",
     "text": [
      "Results were: \n",
      "[2, 2, 1, 1, 2, 1]\n",
      "Tree Progression was: \n",
      "['1', '11', '101', '1001', '10011']\n",
      "Mean Throughput is = 0.8333333333333334\n",
      "The Depth of the tree is: 5.0\n"
     ]
    }
   ],
   "source": [
    "import simstudy\n",
    "simstudy.simulate_tree_branching()"
   ]
  },
  {
   "cell_type": "code",
   "execution_count": null,
   "metadata": {},
   "outputs": [],
   "source": []
  }
 ],
 "metadata": {
  "kernelspec": {
   "display_name": "Python 3",
   "language": "python",
   "name": "python3"
  },
  "language_info": {
   "codemirror_mode": {
    "name": "ipython",
    "version": 3
   },
   "file_extension": ".py",
   "mimetype": "text/x-python",
   "name": "python",
   "nbconvert_exporter": "python",
   "pygments_lexer": "ipython3",
   "version": "3.7.4"
  }
 },
 "nbformat": 4,
 "nbformat_minor": 1
}
